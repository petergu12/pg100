{
 "cells": [
  {
   "cell_type": "markdown",
   "id": "6bad6d80",
   "metadata": {},
   "source": [
    "# Airport Distance EDA\n",
    "This notebook calculates and visualizes the distance between airports."
   ]
  },
  {
   "cell_type": "code",
   "execution_count": null,
   "id": "a20d537a",
   "metadata": {},
   "outputs": [],
   "source": [
    "import csv\n",
    "from geopy.distance import distance\n",
    "import matplotlib.pyplot as plt\n",
    "import seaborn as sns\n",
    "\n",
    "# Read airport CSV file and create dictionary\n",
    "dct_airports = {}\n",
    "with open(\"airports.csv\", newline='', encoding='utf-8') as csvfile:\n",
    "    reader = csv.DictReader(csvfile)\n",
    "    for row in reader:\n",
    "        code = row['IATA']\n",
    "        if code and row['Latitude'] and row['Longitude']:\n",
    "            dct_airports[code] = [float(row['Latitude']), float(row['Longitude'])]\n",
    "\n",
    "print(f\"Total airports loaded: {len(dct_airports)}\")"
   ]
  },
  {
   "cell_type": "code",
   "execution_count": null,
   "id": "63e095d0",
   "metadata": {},
   "outputs": [],
   "source": [
    "# Define function to compute distance\n",
    "def flight_distance(coord1, coord2):\n",
    "    return distance(coord1, coord2).km"
   ]
  },
  {
   "cell_type": "code",
   "execution_count": null,
   "id": "880a1405",
   "metadata": {},
   "outputs": [],
   "source": [
    "# Example: Distance between TPE and NRT\n",
    "origin = dct_airports.get(\"TPE\")\n",
    "destination = dct_airports.get(\"NRT\")\n",
    "\n",
    "if origin and destination:\n",
    "    print(f\"Distance from TPE to NRT: {flight_distance(origin, destination):.2f} km\")\n",
    "else:\n",
    "    print(\"IATA codes not found.\")"
   ]
  },
  {
   "cell_type": "code",
   "execution_count": null,
   "id": "f97ab526",
   "metadata": {},
   "outputs": [],
   "source": [
    "# Sample visualization: generate dummy data\n",
    "import numpy as np\n",
    "\n",
    "# Airport scatter plot\n",
    "lons = np.random.uniform(-180, 180, 200)\n",
    "lats = np.random.uniform(-90, 90, 200)\n",
    "\n",
    "plt.scatter(lons, lats, alpha=0.6)\n",
    "plt.title(\"Airport Locations\")\n",
    "plt.xlabel(\"Longitude\")\n",
    "plt.ylabel(\"Latitude\")\n",
    "plt.show()\n",
    "\n",
    "# Distance histogram\n",
    "distances = np.random.normal(3000, 800, 100)\n",
    "sns.histplot(distances, bins=20, kde=True)\n",
    "plt.title(\"Flight Distance Distribution\")\n",
    "plt.xlabel(\"Distance (km)\")\n",
    "plt.show()"
   ]
  }
 ],
 "metadata": {},
 "nbformat": 4,
 "nbformat_minor": 5
}
